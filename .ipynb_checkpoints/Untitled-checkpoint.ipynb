{
 "cells": [
  {
   "cell_type": "code",
   "execution_count": 65,
   "metadata": {},
   "outputs": [
    {
     "name": "stdout",
     "output_type": "stream",
     "text": [
      "Collecting pillow\n",
      "\u001b[?25l  Downloading https://files.pythonhosted.org/packages/d1/21/bef2816809fac16754e07ed935469fc65f42ced1a94766de7c804179311d/Pillow-5.3.0-cp36-cp36m-macosx_10_6_intel.macosx_10_9_intel.macosx_10_9_x86_64.macosx_10_10_intel.macosx_10_10_x86_64.whl (3.6MB)\n",
      "\u001b[K    100% |████████████████████████████████| 3.6MB 6.4MB/s eta 0:00:01\n",
      "\u001b[?25hInstalling collected packages: pillow\n",
      "Successfully installed pillow-5.3.0\n"
     ]
    }
   ],
   "source": [
    "!pip3 install pillow"
   ]
  },
  {
   "cell_type": "code",
   "execution_count": 5,
   "metadata": {},
   "outputs": [],
   "source": [
    "import requests\n",
    "import json\n",
    "from PIL import Image\n",
    "from io import BytesIO"
   ]
  },
  {
   "cell_type": "code",
   "execution_count": 6,
   "metadata": {},
   "outputs": [],
   "source": [
    "#Get Image\n",
    "def get_image(url):\n",
    "    response = requests.get(url)\n",
    "    img = Image.open(BytesIO(response.content))\n",
    "    return img"
   ]
  },
  {
   "cell_type": "code",
   "execution_count": 7,
   "metadata": {},
   "outputs": [],
   "source": [
    "#Get your category\n",
    "def get_category():\n",
    "    url = 'http://api.8coupons.com/v1/getcategory'\n",
    "    response = requests.get(url)\n",
    "    categories = response.json()\n",
    "    return categories"
   ]
  },
  {
   "cell_type": "code",
   "execution_count": 8,
   "metadata": {},
   "outputs": [],
   "source": [
    "#Get your subcategory\n",
    "def get_subcategory(catid):\n",
    "    url = 'http://api.8coupons.com/v1/getsubcategory'\n",
    "    response = requests.get(url)\n",
    "    subs = response.json()\n",
    "    subcategories=[]\n",
    "    for value in subs:\n",
    "        if value['categoryID'] == catid:\n",
    "            dic = {key:value[key] for key in ['subcategory', 'subcategoryID']}\n",
    "            subcategories.append(dic) \n",
    "    \n",
    "    return subcategories"
   ]
  },
  {
   "cell_type": "code",
   "execution_count": 9,
   "metadata": {},
   "outputs": [],
   "source": [
    "#Chain Shop Search\n",
    "def chain_shop(name):\n",
    "    url = 'https://api.8coupons.com/index.php/v1/getchainstorelist?key=672ebffc9d07b6f8d7f468a35b53dede84b8f48e6f8b22588d0be4f1d4d35c7bf3c91e54b0fa475e01be904521e1841c'\n",
    "    response = requests.get(url)\n",
    "    chains = response.json()\n",
    "    chainshops=[]\n",
    "    for value in chains:\n",
    "        if name==value['name']:\n",
    "            dic = {key:value[key] for key in ['name','homepage','chainID']}\n",
    "            chainshops.append(dic)\n",
    "            \n",
    "    return chainshops"
   ]
  },
  {
   "cell_type": "code",
   "execution_count": 10,
   "metadata": {},
   "outputs": [],
   "source": [
    "#Get Deals By Chain ID\n",
    "def get_chain(ID):\n",
    "    url='http://api.8coupons.com/v1/getstoredeals?key=672ebffc9d07b6f8d7f468a35b53dede84b8f48e6f8b22588d0be4f1d4d35c7bf3c91e54b0fa475e01be904521e1841c&chainID='+ID\n",
    "    response = requests.get(url)\n",
    "    chain_deal = response.json()\n",
    "    deals=[]\n",
    "    for value in chain_deal:\n",
    "        if int(value['expirationDate'][0:4]) >= 2018:#This year should be changed everyyear.\n",
    "            dic = {key:value[key] for key in ['dealTitle','expirationDate','ID']}\n",
    "            deals.append(dic)\n",
    "    return deals"
   ]
  },
  {
   "cell_type": "code",
   "execution_count": 11,
   "metadata": {},
   "outputs": [],
   "source": [
    "#Get Deals By location\n",
    "def get_local(zipcode,cats,subcats):\n",
    "    if subcats==0:\n",
    "        url='http://api.8coupons.com/v1/getdeals?key=672ebffc9d07b6f8d7f468a35b53dede84b8f48e6f8b22588d0be4f1d4d35c7bf3c91e54b0fa475e01be904521e1841c&zip='+zipcode+'&categoryid='+cats\n",
    "    else:\n",
    "        url='http://api.8coupons.com/v1/getdeals?key=672ebffc9d07b6f8d7f468a35b53dede84b8f48e6f8b22588d0be4f1d4d35c7bf3c91e54b0fa475e01be904521e1841c&zip='+zipcode+'&categoryid='+cats+'&subcategoryID='+subcats\n",
    "    response = requests.get(url)\n",
    "    local_deal = response.json()\n",
    "    deals=[]\n",
    "    for value in local_deal:\n",
    "        if int(value['expirationDate'][0:4]) >= 2018:#This year should be changed everyyear.\n",
    "            dic = {key:value[key] for key in ['name','dealTitle','dealinfo','expirationDate','ID']}\n",
    "            deals.append(dic)\n",
    "    return deals"
   ]
  },
  {
   "cell_type": "code",
   "execution_count": 32,
   "metadata": {},
   "outputs": [
    {
     "name": "stdout",
     "output_type": "stream",
     "text": [
      "Hello, are you looking for a chain shop or local shops: (Please enter \"chain\" or \"local\")local\n",
      "We can find these categories\n",
      "[{'categoryID': '1', 'category': 'Restaurants'}, {'categoryID': '2', 'category': 'Entertainment'}, {'categoryID': '3', 'category': 'Beauty & Spa'}, {'categoryID': '4', 'category': 'Services'}, {'categoryID': '6', 'category': 'Shopping'}, {'categoryID': '7', 'category': 'Travel'}]\n",
      "Please enter the id of one you are looking for: 1\n",
      "We can find these subcategories\n",
      "[{'subcategory': 'European', 'subcategoryID': '1'}, {'subcategory': 'Food Carts', 'subcategoryID': '17'}, {'subcategory': 'Russian', 'subcategoryID': '33'}, {'subcategory': 'Brunch & Breakfast', 'subcategoryID': '6'}, {'subcategory': 'Fast Food', 'subcategoryID': '22'}, {'subcategory': 'Southern', 'subcategoryID': '38'}, {'subcategory': 'Cafe', 'subcategoryID': '11'}, {'subcategory': 'Korean', 'subcategoryID': '27'}, {'subcategory': 'Thai', 'subcategoryID': '43'}, {'subcategory': 'Ethiopian & African', 'subcategoryID': '16'}, {'subcategory': 'Pizza', 'subcategoryID': '32'}, {'subcategory': 'Kosher', 'subcategoryID': '118'}, {'subcategory': 'Brazilian  ', 'subcategoryID': '5'}, {'subcategory': 'Hot Dogs', 'subcategoryID': '21'}, {'subcategory': 'Soul Food', 'subcategoryID': '37'}, {'subcategory': 'Caribbean', 'subcategoryID': '10'}, {'subcategory': 'Japanese', 'subcategoryID': '26'}, {'subcategory': 'Tex-Mex', 'subcategoryID': '42'}, {'subcategory': 'Juice & Smoothie Bar', 'subcategoryID': '112'}, {'subcategory': 'Diners', 'subcategoryID': '15'}, {'subcategory': 'Moroccan', 'subcategoryID': '31'}, {'subcategory': 'Barbeque', 'subcategoryID': '4'}, {'subcategory': 'Greek and Mediterranean', 'subcategoryID': '20'}, {'subcategory': 'Singaporean', 'subcategoryID': '36'}, {'subcategory': 'Cajun/Creole', 'subcategoryID': '9'}, {'subcategory': 'Italian', 'subcategoryID': '25'}, {'subcategory': 'Sushi', 'subcategoryID': '41'}, {'subcategory': 'Desserts & Bakery', 'subcategoryID': '111'}, {'subcategory': 'Delis', 'subcategoryID': '14'}, {'subcategory': 'Middle Eastern', 'subcategoryID': '30'}, {'subcategory': 'Vietnamese', 'subcategoryID': '46'}, {'subcategory': 'Asian Fusion', 'subcategoryID': '3'}, {'subcategory': 'German', 'subcategoryID': '19'}, {'subcategory': 'Seafood', 'subcategoryID': '35'}, {'subcategory': 'Burgers', 'subcategoryID': '8'}, {'subcategory': 'Irish', 'subcategoryID': '24'}, {'subcategory': 'Steakhouses', 'subcategoryID': '40'}, {'subcategory': 'Cuban', 'subcategoryID': '13'}, {'subcategory': 'Mexican', 'subcategoryID': '29'}, {'subcategory': 'Vegetarian', 'subcategoryID': '45'}, {'subcategory': 'American / Eclectic', 'subcategoryID': '2'}, {'subcategory': 'French', 'subcategoryID': '18'}, {'subcategory': 'Sandwiches', 'subcategoryID': '34'}, {'subcategory': 'Buffets', 'subcategoryID': '7'}, {'subcategory': 'Indian/Pakistani', 'subcategoryID': '23'}, {'subcategory': 'Spanish/Basque', 'subcategoryID': '39'}, {'subcategory': 'Chinese', 'subcategoryID': '12'}, {'subcategory': 'Latin American', 'subcategoryID': '28'}, {'subcategory': 'Vegan', 'subcategoryID': '44'}]\n",
      "Please enter the id of ones you are looking for, use comma to separate mulitiple ones. Enter '0' to not fliter the subcategories: 0\n",
      "Enter your zipcode to tell us where you are: 10001\n",
      "[{'name': 'Spirit of Philadelphia', 'dealTitle': '$59 -- Friday Prix Fixe Dinner Cruise', 'dealinfo': '**For $69 (reg. $115.46), **reserve a prix fixe dinner cruise Sunday **For $94 (reg. $156.25), **reserve a dinner cruise Tuesday-Friday **For $59 (reg. $101.86), **reserve a prix fixe dinner cruise Friday **For $114 (reg. $190.25),** reserve a dinner cruise Saturday Tickets are per person; purchase multiple vouchers and go with a group Cruises depart from Navy Pier, last approximately three hours (Sunday cruises are 2.5 hours) and include either a prix fixe or buffet dinner **Not valid on:** Jan. 25-27; Feb. 1-3, 14-16; March 16, 29; April 5, 21; May 5, 12, 25-26, 29', 'expirationDate': '2019-05-24', 'ID': '17286444'}, {'name': 'Battle of the Burger', 'dealTitle': 'Umami Burger: Dining & Drinks at 16 Locations', 'dealinfo': '', 'expirationDate': '2019-04-24', 'ID': '17290375'}, {'name': \"Dylan's Candy Bar\", 'dealTitle': '$29 -- NYC Union Square: Spend $50 on Sweets', 'dealinfo': '$29 for $50 to spend on candy $49 for $75 to spend on candy Vouchers are only valid for the location purchased', 'expirationDate': '2019-02-22', 'ID': '17283843'}, {'name': 'Gingerbread House Party at Dylan&rsquo;s Candy Bar', 'dealTitle': '$29 -- NYC Flagship (3rd Ave): Spend $50 on Sweets', 'dealinfo': '$29 for $50 to spend on candy $49 for $75 to spend on candy Vouchers are only valid for the location purchased', 'expirationDate': '2019-02-22', 'ID': '17283841'}, {'name': 'Russian Tea Room', 'dealTitle': '$129 -- Afternoon Tea Service with Wine for 2', 'dealinfo': '**For $65, get afternoon tea service for one** (reg. $79) including: * A sampling of sandwiches and blinis, such as turkey with truffle croque monsieur or Roquefort blue cheese and pear with walnuts * Assorted scones and cupcakes * One glass of house red, white or sparkling wine (up to $19) * Choice of one pot of tea, like mint verbena, chamomile or rooibos chai **For $129, get afternoon tea service for two** (reg. $158)', 'expirationDate': '2019-10-04', 'ID': '17273182'}, {'name': \"Flip at Bloomingdale's\", 'dealTitle': '$55 -- Dinner for 2', 'dealinfo': '**For $29, get happy hour for two** (reg. 49) * Two appetizers or sides * Choice of two beers, wines, spirits or cocktails **For $55, get dinner and drinks for two** (reg. $89) * Choice of one salad or appetizer to share * Two entrees * Two desserts * Choice of two beers, wines or cocktails', 'expirationDate': '2019-02-22', 'ID': '17257135'}, {'name': 'Vaucluse', 'dealTitle': \"$189 -- Dinner for 2: 6-Course Chef's Tasting Menu\", 'dealinfo': \"For $189, get **a six-course chef's tasting menu** for two (reg. $270) For $49, get weekday lunch for one, with an appetizer, entree and glass of wine (reg. up to $80) For $89, get weekday lunch for two (reg. up to $160)\", 'expirationDate': '2019-04-24', 'ID': '17286384'}, {'name': 'Osteria Morini Manhattan', 'dealTitle': '$49 -- Brunch for 2 with Drinks', 'dealinfo': '**$45 for a three-course lunch for two** (reg. $80) * Two appetizers; two salads, sandwiches or pastas; and two desserts **$49 for weekend brunch for two** (reg. $85) * Two brunch entrees, one side to share and two classic bloody marys or mimosas **Craft your own dinner experience with these dining-credit offers:** * $69 for $100 to spend toward food and drink for two * $99 for $150 to spend toward food and drink for four', 'expirationDate': '2019-04-23', 'ID': '17286388'}, {'name': 'Sen Sakana', 'dealTitle': '$69 -- $100 Credit toward Dining for 2', 'dealinfo': 'For $69, get $100 toward food and drinks for two For $135, get $200 toward food and drinks for four Dining credit can be used toward the **[lunch](https://sensakana.com/menu/lunch-menu/)**, **[sushi](https://sensakana.com/menu/sushi-menu/)** and **[dinner](https://sensakana.com/menu/dinner-menu/)** menus', 'expirationDate': '2018-12-28', 'ID': '17267474'}, {'name': \"Janam Tea at Garfunkel's\", 'dealTitle': '$59 -- Afternoon Tea for 2 with Bubbly', 'dealinfo': '**$59 for afternoon tea for two people** (reg. $100) * A selection of savories, such as smoked salmon on a cracker with horseradish cream, dill and black sesame seeds; plus cupcakes and chocolate pot du creme * Choice of one pot of single-estate Indian tea per person * Two glasses of bubbly, chardonnay or cabernet sauvignon (up to $15 each) **$89 for afternoon tea for three people** (reg. $150)', 'expirationDate': '2019-02-22', 'ID': '17244087'}, {'name': 'Gramercy Farmer & The Fish', 'dealTitle': '$95 -- Bottomless Brunch for 4', 'dealinfo': '**$49 for weekend brunch for two** (reg. $86) * Any two entrees (up to $23 each), such as the lobster hash with poached egg and hollandaise, or the biscuits and gravy with house-made maple sausage * 90 minutes of bottomless bloody marys, mimosas or screwdrivers **$95 for weekend brunch for four** (reg. $172) **$79 for dinner for two** (reg. $132) * Any two appetizers (up to $18 each), like the octopus with crispy potatoes or the tuna tartare * Two entrees (up to $34 each), such as the Thai fish tacos or grilled swordfish with she-crab risotto * Two drinks (up to $14 each) **$115 for dinner for three** (reg. $198) _Note:_ Vouchers can be redeemed starting Jan. 2, 2019; vouchers brought in prior to Jan. 2 will not be accepted.', 'expirationDate': '2019-03-29', 'ID': '17271610'}, {'name': '40/40 Club', 'dealTitle': '$59 -- Dinner & Drinks for 2', 'dealinfo': '**$39 for drinks and apps for two people** (reg. $88) * Two appetizers (up to $14 each) * Four cocktails, beers or glasses of wine (up to $15 each) **$59 for dinner for two** (reg. $114) * Two appetizers (up to $14 each) * Two entrees (up to $28 each) * Two cocktails, beers or glasses of wine (up to $15 each) **$600 for a VIP party for up to 20 guests** (reg. $2040) * A private lounge for the evening * Two bottles of liquor (up to $300 each) * Four appetizer platters (up to $110 each) _Note:_ There is a maximum time limit of four hours for all private lounge reservations.', 'expirationDate': '2019-01-25', 'ID': '17274097'}, {'name': 'Kellari Seafood Taverna', 'dealTitle': '$55 -- Bottomless Brunch for 2', 'dealinfo': '**$55 for a weekend brunch for two** (reg. $122.85) * One appetizer to share (up to $26.95), such as the wild-caught jumbo crab cakes with spicy harissa yogurt * Two brunch entrees (up to $26.95 each), like blueberry pancakes or the salmon Benedict on Tsoureki toast * Two hours of bottomless mimosas for two people **For $109, get weekend brunch for four** (reg. $245.70)', 'expirationDate': '2019-03-25', 'ID': '17279725'}, {'name': 'Ai Fiori', 'dealTitle': '$199 -- 7-Course Tasting Menu for 2', 'dealinfo': \"$199 for a **seven-course chef's tasting menu** for two (reg. $300) $349 for a seven-course chef's tasting menu for two with wine pairings for each course (reg. $490) $39 for a weekday lunch for one, with an appetizer, pasta, and dessert (reg. $63) $79 for a weekday lunch for two, with an appetizer, pasta, and dessert per person (reg. $126)\", 'expirationDate': '2019-04-24', 'ID': '17286379'}, {'name': 'Sofitel New York', 'dealTitle': '$65 -- Bottomless Brunch for 2', 'dealinfo': '**For $65, get weekend brunch for two** (reg. $102) * Two appetizers, such as Hudson Valley Camembert or avocado toast of the day * Two entrees, like eggs Benedict or a croque madame * Two coffees or teas * One bread basket * Endless mimosas, bloody marys or Bellinis **For $129, get weekend brunch for four** (reg. $204) **For $85, get dinner and drinks for two** (reg. $133) * Two appetizers, like the burrata or the fried green tomatoes * Two entrees, such as striped bass or lemon-thyme chicken * Two desserts, like Tahitian vanilla crème brûlée or cheesecake * One bottle of house wine ($35 value) **For $169, get dinner and drinks for four** (reg. $266) _Note:_ Dinner selections are to be made from the **theater menu** only, and dinner vouchers are not valid on Nov. 22; Dec. 24-25, 31', 'expirationDate': '2019-02-22', 'ID': '17274743'}, {'name': 'Cesca', 'dealTitle': '$79 -- 3-Course Dinner for 2 with Bottle of Wine', 'dealinfo': '**$79 for a special three-course dinner for two** (reg. $128) * Two appetizers, like the caprese salad or the carciofi * Two entrees, such as the pork porterhouse or the tagliatelle Bolognese * Two desserts, like homemade sorbetto Dinner includes one bottle of wine from the \"Sommelier Selection\" menu (up to $52)', 'expirationDate': '2018-12-23', 'ID': '17249351'}, {'name': 'Rice & Gold', 'dealTitle': '$69 -- $130 Food & Drink Credit for 2', 'dealinfo': '**$69 for a $130 food-and-drink credit for two** * Use it toward the full dinner menu, with shared plates such as spicy fried chicken bao, miso butter rice cakes, northern style beef pho and banana leaf whole roasted branzino, plus creative cocktails like the Endless Summer with Avion Blanco, yuzu, pear and grapefruit **$499 for an $800 food-and-drinks credit for 10 or more people** **$49 for weekend brunch for two** (reg. $84) * Choice of one dim sum (up to $16) like their infamous **[pho soup dumplings](https://www.zagat.com/b/must-try-dumplings-in-15-cities-around-the-u.s)** or the avocado toast * Choice of two plates (up to $18 each) such as the thai fried chicken waffles or the smoked salmon benedict * Choice of two drinks (up to $16 each) **Not available on:** Dec. 13, 24-25, 31', 'expirationDate': '2019-03-24', 'ID': '17262327'}, {'name': 'indi thai', 'dealTitle': 'Indi Thai', 'dealinfo': '', 'expirationDate': '2019-01-11', 'ID': '17290657'}, {'name': 'Australian', 'dealTitle': 'The Australian NYC', 'dealinfo': 'Australian food influenced from British, Asian, and Mediterranean.', 'expirationDate': '2019-01-11', 'ID': '17279485'}, {'name': 'Cielo at The Mayfair', 'dealTitle': 'Cielo at the Mayfair', 'dealinfo': \"Located just a stone's throw away from some of Broadway's most popular shows, Cielo is the perfect place to enjoy a great meal before catching a show. Our delicious Italian fare, rustic decor, friendly staff and affordable prices make Cielo the perfect destination for pre-theatre dinner, post-work drinks or a late night out with friends.\", 'expirationDate': '2019-01-11', 'ID': '17268503'}]\n",
      "Thank you for using coupon finder by Jared, Madison , and Zelin\n"
     ]
    }
   ],
   "source": [
    "while True:\n",
    "    type= input('Hello, are you looking for a chain shop or local shops: (Please enter \"chain\" or \"local\")')\n",
    "    if type == 'chain':\n",
    "        chain_name = input('Enter the name of shops you are looking for in full: ')\n",
    "        shop = chain_shop(chain_name)\n",
    "        if shop == []:\n",
    "            print(\"Sorry, we can't find the shop in the database, please choose another one or moodify your spelling.\")\n",
    "        else: \n",
    "            deals = get_chain(shop[0]['chainID'])\n",
    "            break\n",
    "    elif type == 'local':\n",
    "        while True:\n",
    "            cat = input(\"We can find these categories\\n\" + str(get_category())+\"\\nPlease enter the id of one you are looking for: \")\n",
    "            subs = get_subcategory(cat)\n",
    "            if subs==[]:\n",
    "                print('Wrong Input, Please check category id again')\n",
    "            else:\n",
    "                subcat= input(\"We can find these subcategories\\n\"+ str(get_subcategory(cat))+\"\\nPlease enter the id of ones you are looking for, use comma to separate mulitiple ones. Enter '0' to not fliter the subcategories: \")\n",
    "                zipcode= input('Enter your zipcode to tell us where you are: ')\n",
    "                deals= get_local(zipcode,cat,subcat)\n",
    "                break\n",
    "        break\n",
    "    if deals == []:\n",
    "        print(\"Sorry, We don't have any coupons about this store/in your area right now. Please modify your search\")\n",
    "    else:\n",
    "        print(deals)\n",
    "        break\n",
    "    \n",
    "print(\"Thank you for using coupon finder by Jared, Madison , and Zelin\")"
   ]
  },
  {
   "cell_type": "code",
   "execution_count": null,
   "metadata": {},
   "outputs": [],
   "source": []
  },
  {
   "cell_type": "code",
   "execution_count": null,
   "metadata": {},
   "outputs": [],
   "source": [
    "#Under are all test program, just ignore."
   ]
  },
  {
   "cell_type": "code",
   "execution_count": 24,
   "metadata": {},
   "outputs": [
    {
     "data": {
      "text/plain": [
       "[{'name': 'Starbucks', 'homepage': 'http://www.starbucks.com', 'chainID': '4'}]"
      ]
     },
     "execution_count": 24,
     "metadata": {},
     "output_type": "execute_result"
    }
   ],
   "source": [
    "chain_shop('Starbucks')"
   ]
  },
  {
   "cell_type": "code",
   "execution_count": 16,
   "metadata": {},
   "outputs": [
    {
     "name": "stdout",
     "output_type": "stream",
     "text": [
      "Enter your category number: dsa\n"
     ]
    },
    {
     "data": {
      "text/plain": [
       "str"
      ]
     },
     "execution_count": 16,
     "metadata": {},
     "output_type": "execute_result"
    }
   ],
   "source": [
    "catid = input('Enter your category number: ')\n",
    "type (catid)"
   ]
  },
  {
   "cell_type": "code",
   "execution_count": 13,
   "metadata": {},
   "outputs": [
    {
     "data": {
      "text/plain": [
       "[{'dealTitle': '10K or 5K BK Beach Run Registration for One, Two, or Four from Burger King McLamore Foundation (Up to 51% Off)',\n",
       "  'expirationDate': '2018-10-06',\n",
       "  'ID': '17226962'},\n",
       " {'dealTitle': '10K or 5K BK Beach Run Registration for One, Two, or Four from Burger King McLamore Foundation (Up to 51% Off)',\n",
       "  'expirationDate': '2018-10-06',\n",
       "  'ID': '17226961'},\n",
       " {'dealTitle': '10K or 5K BK Beach Run Registration for One, Two, or Four from Burger King McLamore Foundation (Up to 51% Off)',\n",
       "  'expirationDate': '2018-10-06',\n",
       "  'ID': '17226960'},\n",
       " {'dealTitle': '10K or 5K BK Beach Run Registration for One, Two, or Four from Burger King McLamore Foundation (Up to 51% Off)',\n",
       "  'expirationDate': '2018-10-06',\n",
       "  'ID': '17226959'},\n",
       " {'dealTitle': '10K or 5K BK Beach Run Registration for One, Two, or Four from Burger King McLamore Foundation (Up to 51% Off)',\n",
       "  'expirationDate': '2018-10-06',\n",
       "  'ID': '17226958'},\n",
       " {'dealTitle': '10K or 5K BK Beach Run Registration for One, Two, or Four from Burger King McLamore Foundation (Up to 51% Off)',\n",
       "  'expirationDate': '2018-10-06',\n",
       "  'ID': '17226957'},\n",
       " {'dealTitle': '$4.99 2 Original Chicken Sandwiches $ 2 Small French Fries',\n",
       "  'expirationDate': '2018-12-26',\n",
       "  'ID': '17165477'},\n",
       " {'dealTitle': 'FREE Buy 1 Big Fish Sandwich Get 1 Big Fish Sandwich FREE',\n",
       "  'expirationDate': '2018-12-26',\n",
       "  'ID': '17165476'},\n",
       " {'dealTitle': 'FREE Buy 1 Whopper Get 1 FREE',\n",
       "  'expirationDate': '2018-12-26',\n",
       "  'ID': '17165475'},\n",
       " {'dealTitle': \"$4.00 2 Croissan'wichs, Small Hash Brown & Small Coffee\",\n",
       "  'expirationDate': '2018-04-13',\n",
       "  'ID': '17014101'},\n",
       " {'dealTitle': '$4.00 2 Bacon Cheeseburgers, Small Fry & Small Drink',\n",
       "  'expirationDate': '2018-04-13',\n",
       "  'ID': '17014100'},\n",
       " {'dealTitle': \"$3.99 2 Whopper Jr.'s & 2 Small Fries\",\n",
       "  'expirationDate': '2018-04-13',\n",
       "  'ID': '17014099'},\n",
       " {'dealTitle': \"Free Croissan'wich - Buy One, Get One\",\n",
       "  'expirationDate': '2018-04-29',\n",
       "  'ID': '16910466'},\n",
       " {'dealTitle': '$5 For 2 Whopper JRs, 2 Small Fries & 2 Small Fountain Drinks',\n",
       "  'expirationDate': '2018-04-29',\n",
       "  'ID': '16910465'},\n",
       " {'dealTitle': 'Free Whopper! With The Purchase Of A Whopper Sandwich',\n",
       "  'expirationDate': '2018-04-29',\n",
       "  'ID': '16910464'},\n",
       " {'dealTitle': \"FREE CROISSAN'WICH With the purchase of a CROISSAN'WICH Sandwich\",\n",
       "  'expirationDate': '2018-04-09',\n",
       "  'ID': '16903037'},\n",
       " {'dealTitle': \"$5 WHOPPER JR. Meal for 2 2 Whopper Jr's, 2 Small Fries & 2 Small Fountain Drinks\",\n",
       "  'expirationDate': '2018-04-09',\n",
       "  'ID': '16903036'},\n",
       " {'dealTitle': 'FREE WHOPPER! With the purchase of a WHOPPER Sandwich',\n",
       "  'expirationDate': '2018-04-09',\n",
       "  'ID': '16903035'},\n",
       " {'dealTitle': 'Burger King',\n",
       "  'expirationDate': '2019-01-11',\n",
       "  'ID': '16447459'},\n",
       " {'dealTitle': 'Burger King',\n",
       "  'expirationDate': '2019-01-11',\n",
       "  'ID': '16447457'},\n",
       " {'dealTitle': 'Burger King',\n",
       "  'expirationDate': '2019-01-11',\n",
       "  'ID': '16447455'},\n",
       " {'dealTitle': 'Burger King',\n",
       "  'expirationDate': '2019-01-11',\n",
       "  'ID': '16447447'},\n",
       " {'dealTitle': 'Burger King',\n",
       "  'expirationDate': '2019-01-11',\n",
       "  'ID': '16447445'},\n",
       " {'dealTitle': 'Burger King',\n",
       "  'expirationDate': '2019-01-11',\n",
       "  'ID': '16447443'},\n",
       " {'dealTitle': 'Burger King',\n",
       "  'expirationDate': '2019-01-11',\n",
       "  'ID': '16447441'},\n",
       " {'dealTitle': '$4.99 2 Original Chicken Sandwiches & 2 Small Classic French Fries',\n",
       "  'expirationDate': '2018-08-13',\n",
       "  'ID': '15505089'},\n",
       " {'dealTitle': 'FREE WHOPPER With The Purchase of a Whopper.',\n",
       "  'expirationDate': '2018-08-13',\n",
       "  'ID': '15505087'},\n",
       " {'dealTitle': '$3 Bacon Double Cheeseburger & Large Classic French Fries',\n",
       "  'expirationDate': '2018-08-13',\n",
       "  'ID': '15505085'}]"
      ]
     },
     "execution_count": 13,
     "metadata": {},
     "output_type": "execute_result"
    }
   ],
   "source": [
    "get_chain('13')"
   ]
  },
  {
   "cell_type": "code",
   "execution_count": 14,
   "metadata": {},
   "outputs": [
    {
     "data": {
      "text/plain": [
       "[{'name': 'Spirit of Philadelphia',\n",
       "  'dealTitle': '$59 -- Friday Prix Fixe Dinner Cruise',\n",
       "  'dealinfo': '**For $69 (reg. $115.46), **reserve a prix fixe dinner cruise Sunday **For $94 (reg. $156.25), **reserve a dinner cruise Tuesday-Friday **For $59 (reg. $101.86), **reserve a prix fixe dinner cruise Friday **For $114 (reg. $190.25),** reserve a dinner cruise Saturday Tickets are per person; purchase multiple vouchers and go with a group Cruises depart from Navy Pier, last approximately three hours (Sunday cruises are 2.5 hours) and include either a prix fixe or buffet dinner **Not valid on:** Jan. 25-27; Feb. 1-3, 14-16; March 16, 29; April 5, 21; May 5, 12, 25-26, 29',\n",
       "  'expirationDate': '2019-05-24',\n",
       "  'ID': '17286444'},\n",
       " {'name': 'Battle of the Burger',\n",
       "  'dealTitle': 'Umami Burger: Dining & Drinks at 16 Locations',\n",
       "  'dealinfo': '',\n",
       "  'expirationDate': '2019-04-24',\n",
       "  'ID': '17290375'},\n",
       " {'name': \"Dylan's Candy Bar\",\n",
       "  'dealTitle': '$29 -- NYC Union Square: Spend $50 on Sweets',\n",
       "  'dealinfo': '$29 for $50 to spend on candy $49 for $75 to spend on candy Vouchers are only valid for the location purchased',\n",
       "  'expirationDate': '2019-02-22',\n",
       "  'ID': '17283843'},\n",
       " {'name': 'Gingerbread House Party at Dylan&rsquo;s Candy Bar',\n",
       "  'dealTitle': '$29 -- NYC Flagship (3rd Ave): Spend $50 on Sweets',\n",
       "  'dealinfo': '$29 for $50 to spend on candy $49 for $75 to spend on candy Vouchers are only valid for the location purchased',\n",
       "  'expirationDate': '2019-02-22',\n",
       "  'ID': '17283841'},\n",
       " {'name': 'Russian Tea Room',\n",
       "  'dealTitle': '$129 -- Afternoon Tea Service with Wine for 2',\n",
       "  'dealinfo': '**For $65, get afternoon tea service for one** (reg. $79) including: * A sampling of sandwiches and blinis, such as turkey with truffle croque monsieur or Roquefort blue cheese and pear with walnuts * Assorted scones and cupcakes * One glass of house red, white or sparkling wine (up to $19) * Choice of one pot of tea, like mint verbena, chamomile or rooibos chai **For $129, get afternoon tea service for two** (reg. $158)',\n",
       "  'expirationDate': '2019-10-04',\n",
       "  'ID': '17273182'},\n",
       " {'name': \"Flip at Bloomingdale's\",\n",
       "  'dealTitle': '$55 -- Dinner for 2',\n",
       "  'dealinfo': '**For $29, get happy hour for two** (reg. 49) * Two appetizers or sides * Choice of two beers, wines, spirits or cocktails **For $55, get dinner and drinks for two** (reg. $89) * Choice of one salad or appetizer to share * Two entrees * Two desserts * Choice of two beers, wines or cocktails',\n",
       "  'expirationDate': '2019-02-22',\n",
       "  'ID': '17257135'},\n",
       " {'name': 'Vaucluse',\n",
       "  'dealTitle': \"$189 -- Dinner for 2: 6-Course Chef's Tasting Menu\",\n",
       "  'dealinfo': \"For $189, get **a six-course chef's tasting menu** for two (reg. $270) For $49, get weekday lunch for one, with an appetizer, entree and glass of wine (reg. up to $80) For $89, get weekday lunch for two (reg. up to $160)\",\n",
       "  'expirationDate': '2019-04-24',\n",
       "  'ID': '17286384'},\n",
       " {'name': 'Osteria Morini Manhattan',\n",
       "  'dealTitle': '$49 -- Brunch for 2 with Drinks',\n",
       "  'dealinfo': '**$45 for a three-course lunch for two** (reg. $80) * Two appetizers; two salads, sandwiches or pastas; and two desserts **$49 for weekend brunch for two** (reg. $85) * Two brunch entrees, one side to share and two classic bloody marys or mimosas **Craft your own dinner experience with these dining-credit offers:** * $69 for $100 to spend toward food and drink for two * $99 for $150 to spend toward food and drink for four',\n",
       "  'expirationDate': '2019-04-23',\n",
       "  'ID': '17286388'},\n",
       " {'name': 'Sen Sakana',\n",
       "  'dealTitle': '$69 -- $100 Credit toward Dining for 2',\n",
       "  'dealinfo': 'For $69, get $100 toward food and drinks for two For $135, get $200 toward food and drinks for four Dining credit can be used toward the **[lunch](https://sensakana.com/menu/lunch-menu/)**, **[sushi](https://sensakana.com/menu/sushi-menu/)** and **[dinner](https://sensakana.com/menu/dinner-menu/)** menus',\n",
       "  'expirationDate': '2018-12-28',\n",
       "  'ID': '17267474'},\n",
       " {'name': \"Janam Tea at Garfunkel's\",\n",
       "  'dealTitle': '$59 -- Afternoon Tea for 2 with Bubbly',\n",
       "  'dealinfo': '**$59 for afternoon tea for two people** (reg. $100) * A selection of savories, such as smoked salmon on a cracker with horseradish cream, dill and black sesame seeds; plus cupcakes and chocolate pot du creme * Choice of one pot of single-estate Indian tea per person * Two glasses of bubbly, chardonnay or cabernet sauvignon (up to $15 each) **$89 for afternoon tea for three people** (reg. $150)',\n",
       "  'expirationDate': '2019-02-22',\n",
       "  'ID': '17244087'},\n",
       " {'name': 'Gramercy Farmer & The Fish',\n",
       "  'dealTitle': '$95 -- Bottomless Brunch for 4',\n",
       "  'dealinfo': '**$49 for weekend brunch for two** (reg. $86) * Any two entrees (up to $23 each), such as the lobster hash with poached egg and hollandaise, or the biscuits and gravy with house-made maple sausage * 90 minutes of bottomless bloody marys, mimosas or screwdrivers **$95 for weekend brunch for four** (reg. $172) **$79 for dinner for two** (reg. $132) * Any two appetizers (up to $18 each), like the octopus with crispy potatoes or the tuna tartare * Two entrees (up to $34 each), such as the Thai fish tacos or grilled swordfish with she-crab risotto * Two drinks (up to $14 each) **$115 for dinner for three** (reg. $198) _Note:_ Vouchers can be redeemed starting Jan. 2, 2019; vouchers brought in prior to Jan. 2 will not be accepted.',\n",
       "  'expirationDate': '2019-03-29',\n",
       "  'ID': '17271610'},\n",
       " {'name': '40/40 Club',\n",
       "  'dealTitle': '$59 -- Dinner & Drinks for 2',\n",
       "  'dealinfo': '**$39 for drinks and apps for two people** (reg. $88) * Two appetizers (up to $14 each) * Four cocktails, beers or glasses of wine (up to $15 each) **$59 for dinner for two** (reg. $114) * Two appetizers (up to $14 each) * Two entrees (up to $28 each) * Two cocktails, beers or glasses of wine (up to $15 each) **$600 for a VIP party for up to 20 guests** (reg. $2040) * A private lounge for the evening * Two bottles of liquor (up to $300 each) * Four appetizer platters (up to $110 each) _Note:_ There is a maximum time limit of four hours for all private lounge reservations.',\n",
       "  'expirationDate': '2019-01-25',\n",
       "  'ID': '17274097'},\n",
       " {'name': 'Kellari Seafood Taverna',\n",
       "  'dealTitle': '$55 -- Bottomless Brunch for 2',\n",
       "  'dealinfo': '**$55 for a weekend brunch for two** (reg. $122.85) * One appetizer to share (up to $26.95), such as the wild-caught jumbo crab cakes with spicy harissa yogurt * Two brunch entrees (up to $26.95 each), like blueberry pancakes or the salmon Benedict on Tsoureki toast * Two hours of bottomless mimosas for two people **For $109, get weekend brunch for four** (reg. $245.70)',\n",
       "  'expirationDate': '2019-03-25',\n",
       "  'ID': '17279725'},\n",
       " {'name': 'Ai Fiori',\n",
       "  'dealTitle': '$199 -- 7-Course Tasting Menu for 2',\n",
       "  'dealinfo': \"$199 for a **seven-course chef's tasting menu** for two (reg. $300) $349 for a seven-course chef's tasting menu for two with wine pairings for each course (reg. $490) $39 for a weekday lunch for one, with an appetizer, pasta, and dessert (reg. $63) $79 for a weekday lunch for two, with an appetizer, pasta, and dessert per person (reg. $126)\",\n",
       "  'expirationDate': '2019-04-24',\n",
       "  'ID': '17286379'},\n",
       " {'name': 'Sofitel New York',\n",
       "  'dealTitle': '$65 -- Bottomless Brunch for 2',\n",
       "  'dealinfo': '**For $65, get weekend brunch for two** (reg. $102) * Two appetizers, such as Hudson Valley Camembert or avocado toast of the day * Two entrees, like eggs Benedict or a croque madame * Two coffees or teas * One bread basket * Endless mimosas, bloody marys or Bellinis **For $129, get weekend brunch for four** (reg. $204) **For $85, get dinner and drinks for two** (reg. $133) * Two appetizers, like the burrata or the fried green tomatoes * Two entrees, such as striped bass or lemon-thyme chicken * Two desserts, like Tahitian vanilla crème brûlée or cheesecake * One bottle of house wine ($35 value) **For $169, get dinner and drinks for four** (reg. $266) _Note:_ Dinner selections are to be made from the **theater menu** only, and dinner vouchers are not valid on Nov. 22; Dec. 24-25, 31',\n",
       "  'expirationDate': '2019-02-22',\n",
       "  'ID': '17274743'},\n",
       " {'name': 'Cesca',\n",
       "  'dealTitle': '$79 -- 3-Course Dinner for 2 with Bottle of Wine',\n",
       "  'dealinfo': '**$79 for a special three-course dinner for two** (reg. $128) * Two appetizers, like the caprese salad or the carciofi * Two entrees, such as the pork porterhouse or the tagliatelle Bolognese * Two desserts, like homemade sorbetto Dinner includes one bottle of wine from the \"Sommelier Selection\" menu (up to $52)',\n",
       "  'expirationDate': '2018-12-23',\n",
       "  'ID': '17249351'},\n",
       " {'name': 'Rice & Gold',\n",
       "  'dealTitle': '$69 -- $130 Food & Drink Credit for 2',\n",
       "  'dealinfo': '**$69 for a $130 food-and-drink credit for two** * Use it toward the full dinner menu, with shared plates such as spicy fried chicken bao, miso butter rice cakes, northern style beef pho and banana leaf whole roasted branzino, plus creative cocktails like the Endless Summer with Avion Blanco, yuzu, pear and grapefruit **$499 for an $800 food-and-drinks credit for 10 or more people** **$49 for weekend brunch for two** (reg. $84) * Choice of one dim sum (up to $16) like their infamous **[pho soup dumplings](https://www.zagat.com/b/must-try-dumplings-in-15-cities-around-the-u.s)** or the avocado toast * Choice of two plates (up to $18 each) such as the thai fried chicken waffles or the smoked salmon benedict * Choice of two drinks (up to $16 each) **Not available on:** Dec. 13, 24-25, 31',\n",
       "  'expirationDate': '2019-03-24',\n",
       "  'ID': '17262327'},\n",
       " {'name': 'indi thai',\n",
       "  'dealTitle': 'Indi Thai',\n",
       "  'dealinfo': '',\n",
       "  'expirationDate': '2019-01-11',\n",
       "  'ID': '17290657'},\n",
       " {'name': 'Australian',\n",
       "  'dealTitle': 'The Australian NYC',\n",
       "  'dealinfo': 'Australian food influenced from British, Asian, and Mediterranean.',\n",
       "  'expirationDate': '2019-01-11',\n",
       "  'ID': '17279485'},\n",
       " {'name': 'Cielo at The Mayfair',\n",
       "  'dealTitle': 'Cielo at the Mayfair',\n",
       "  'dealinfo': \"Located just a stone's throw away from some of Broadway's most popular shows, Cielo is the perfect place to enjoy a great meal before catching a show. Our delicious Italian fare, rustic decor, friendly staff and affordable prices make Cielo the perfect destination for pre-theatre dinner, post-work drinks or a late night out with friends.\",\n",
       "  'expirationDate': '2019-01-11',\n",
       "  'ID': '17268503'}]"
      ]
     },
     "execution_count": 14,
     "metadata": {},
     "output_type": "execute_result"
    }
   ],
   "source": [
    "get_local('10001','1','0')"
   ]
  },
  {
   "cell_type": "code",
   "execution_count": 15,
   "metadata": {},
   "outputs": [
    {
     "data": {
      "text/plain": [
       "[{'categoryID': '1', 'category': 'Restaurants'},\n",
       " {'categoryID': '2', 'category': 'Entertainment'},\n",
       " {'categoryID': '3', 'category': 'Beauty & Spa'},\n",
       " {'categoryID': '4', 'category': 'Services'},\n",
       " {'categoryID': '6', 'category': 'Shopping'},\n",
       " {'categoryID': '7', 'category': 'Travel'}]"
      ]
     },
     "execution_count": 15,
     "metadata": {},
     "output_type": "execute_result"
    }
   ],
   "source": [
    "get_category()"
   ]
  },
  {
   "cell_type": "code",
   "execution_count": 17,
   "metadata": {},
   "outputs": [
    {
     "data": {
      "text/plain": [
       "[]"
      ]
     },
     "execution_count": 17,
     "metadata": {},
     "output_type": "execute_result"
    }
   ],
   "source": [
    "get_subcategory(catid)"
   ]
  },
  {
   "cell_type": "code",
   "execution_count": null,
   "metadata": {},
   "outputs": [],
   "source": []
  }
 ],
 "metadata": {
  "kernelspec": {
   "display_name": "Python 3",
   "language": "python",
   "name": "python3"
  },
  "language_info": {
   "codemirror_mode": {
    "name": "ipython",
    "version": 3
   },
   "file_extension": ".py",
   "mimetype": "text/x-python",
   "name": "python",
   "nbconvert_exporter": "python",
   "pygments_lexer": "ipython3",
   "version": "3.6.6"
  }
 },
 "nbformat": 4,
 "nbformat_minor": 2
}
