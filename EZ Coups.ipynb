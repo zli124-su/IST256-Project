{
 "cells": [
  {
   "cell_type": "markdown",
   "metadata": {},
   "source": [
    "## Algorithm\n",
    "\n",
    "Inputs:\n",
    "- mode choices between local and chain\n",
    "- shop name\n",
    "- categories and subcategories\n",
    "- zipcode\n",
    "\n",
    "Outputs:\n",
    "- coupon deals\n",
    "\n",
    "Algorithm (Steps in Program):\n",
    "\n",
    "1. Say Hello to users\n",
    "2. Ask users to choose between local and chain\n",
    "3. If the user choose the chain mode\n",
    "    4. Ask the user to input the name of the shop\n",
    "    5. Find the id in the api of that chain shop\n",
    "    6. Check on the api with the chain shop ID to get deals\n",
    "7. If the user choose the local mode\n",
    "    8. Ask the user to choose the main category of shops looking for\n",
    "    9. Ask the user to choose a few subcategories to get more fliters of local shops\n",
    "    10. Ask for the zipcode to locate the user\n",
    "    11. Check on the api with the cats/subcats/zipcode to get deals\n",
    "12. Print the deals"
   ]
  },
  {
   "cell_type": "code",
   "execution_count": 65,
   "metadata": {},
   "outputs": [
    {
     "name": "stdout",
     "output_type": "stream",
     "text": [
      "Collecting pillow\n",
      "\u001b[?25l  Downloading https://files.pythonhosted.org/packages/d1/21/bef2816809fac16754e07ed935469fc65f42ced1a94766de7c804179311d/Pillow-5.3.0-cp36-cp36m-macosx_10_6_intel.macosx_10_9_intel.macosx_10_9_x86_64.macosx_10_10_intel.macosx_10_10_x86_64.whl (3.6MB)\n",
      "\u001b[K    100% |████████████████████████████████| 3.6MB 6.4MB/s eta 0:00:01\n",
      "\u001b[?25hInstalling collected packages: pillow\n",
      "Successfully installed pillow-5.3.0\n"
     ]
    }
   ],
   "source": [
    "!pip3 install pillow"
   ]
  },
  {
   "cell_type": "code",
   "execution_count": 1,
   "metadata": {},
   "outputs": [],
   "source": [
    "import requests\n",
    "import json\n",
    "from PIL import Image\n",
    "from io import BytesIO\n",
    "import sys"
   ]
  },
  {
   "cell_type": "code",
   "execution_count": 2,
   "metadata": {},
   "outputs": [],
   "source": [
    "#Get Image\n",
    "def get_image(url):\n",
    "    response = requests.get(url)\n",
    "    img = Image.open(BytesIO(response.content))\n",
    "    return img"
   ]
  },
  {
   "cell_type": "code",
   "execution_count": 3,
   "metadata": {},
   "outputs": [],
   "source": [
    "#Get your category\n",
    "def get_category():\n",
    "    url = 'http://api.8coupons.com/v1/getcategory'\n",
    "    response = requests.get(url)\n",
    "    categories = response.json()\n",
    "    return categories"
   ]
  },
  {
   "cell_type": "code",
   "execution_count": 4,
   "metadata": {},
   "outputs": [],
   "source": [
    "#Get your subcategory\n",
    "def get_subcategory(catid):\n",
    "    url = 'http://api.8coupons.com/v1/getsubcategory'\n",
    "    response = requests.get(url)\n",
    "    subs = response.json()\n",
    "    subcategories=[]\n",
    "    for value in subs:\n",
    "        if value['categoryID'] == catid:\n",
    "            dic = {key:value[key] for key in ['subcategory', 'subcategoryID']}\n",
    "            subcategories.append(dic) \n",
    "    \n",
    "    return subcategories"
   ]
  },
  {
   "cell_type": "code",
   "execution_count": 5,
   "metadata": {},
   "outputs": [],
   "source": [
    "#Chain Shop Search\n",
    "def chain_shop(name):\n",
    "    url = 'https://api.8coupons.com/index.php/v1/getchainstorelist?key=672ebffc9d07b6f8d7f468a35b53dede84b8f48e6f8b22588d0be4f1d4d35c7bf3c91e54b0fa475e01be904521e1841c'\n",
    "    response = requests.get(url)\n",
    "    chains = response.json()\n",
    "    chainshops=[]\n",
    "    for value in chains:\n",
    "        if name==value['name']:\n",
    "            dic = {key:value[key] for key in ['name','homepage','chainID']}\n",
    "            chainshops.append(dic)\n",
    "            \n",
    "    return chainshops"
   ]
  },
  {
   "cell_type": "code",
   "execution_count": 17,
   "metadata": {},
   "outputs": [],
   "source": [
    "#Get Deals By Chain ID\n",
    "def get_chain(ID):\n",
    "    url='http://api.8coupons.com/v1/getstoredeals?key=672ebffc9d07b6f8d7f468a35b53dede84b8f48e6f8b22588d0be4f1d4d35c7bf3c91e54b0fa475e01be904521e1841c&chainID='+ID\n",
    "    response = requests.get(url)\n",
    "    chain_deal = response.json()\n",
    "    deals=[]\n",
    "    for value in chain_deal:\n",
    "        if int(value['expirationDate'][0:4]) >= 2018:#This year should be changed everyyear.\n",
    "            dic = {key:value[key] for key in ['dealTitle','expirationDate']}\n",
    "            deals.append(dic)\n",
    "    return deals"
   ]
  },
  {
   "cell_type": "code",
   "execution_count": 18,
   "metadata": {},
   "outputs": [],
   "source": [
    "#Get Deals By location\n",
    "def get_local(zipcode,cats,subcats):\n",
    "    if subcats==0:\n",
    "        url='http://api.8coupons.com/v1/getdeals?key=672ebffc9d07b6f8d7f468a35b53dede84b8f48e6f8b22588d0be4f1d4d35c7bf3c91e54b0fa475e01be904521e1841c&zip='+zipcode+'&categoryid='+cats\n",
    "    else:\n",
    "        url='http://api.8coupons.com/v1/getdeals?key=672ebffc9d07b6f8d7f468a35b53dede84b8f48e6f8b22588d0be4f1d4d35c7bf3c91e54b0fa475e01be904521e1841c&zip='+zipcode+'&categoryid='+cats+'&subcategoryID='+subcats\n",
    "    response = requests.get(url)\n",
    "    local_deal = response.json()\n",
    "    deals=[]\n",
    "    for value in local_deal:\n",
    "        if int(value['expirationDate'][0:4]) >= 2018:#This year should be changed everyyear.\n",
    "            dic = {key:value[key] for key in ['name','dealTitle','dealinfo','expirationDate']}\n",
    "            deals.append(dic)\n",
    "    return deals"
   ]
  },
  {
   "cell_type": "code",
   "execution_count": 52,
   "metadata": {},
   "outputs": [
    {
     "name": "stdout",
     "output_type": "stream",
     "text": [
      "Hello, are you looking for a chain shop or local shops: (Please enter \"chain\" or \"local\")chain\n",
      "Enter the name of shops you are looking for in full: Burger King\n",
      "[{'dealTitle': '10K or 5K BK Beach Run Registration for One, Two, or Four from Burger King McLamore Foundation (Up to 51% Off)', 'expirationDate': '2018-10-06'}, {'dealTitle': '10K or 5K BK Beach Run Registration for One, Two, or Four from Burger King McLamore Foundation (Up to 51% Off)', 'expirationDate': '2018-10-06'}, {'dealTitle': '10K or 5K BK Beach Run Registration for One, Two, or Four from Burger King McLamore Foundation (Up to 51% Off)', 'expirationDate': '2018-10-06'}, {'dealTitle': '10K or 5K BK Beach Run Registration for One, Two, or Four from Burger King McLamore Foundation (Up to 51% Off)', 'expirationDate': '2018-10-06'}, {'dealTitle': '10K or 5K BK Beach Run Registration for One, Two, or Four from Burger King McLamore Foundation (Up to 51% Off)', 'expirationDate': '2018-10-06'}, {'dealTitle': '10K or 5K BK Beach Run Registration for One, Two, or Four from Burger King McLamore Foundation (Up to 51% Off)', 'expirationDate': '2018-10-06'}, {'dealTitle': '$4.99 2 Original Chicken Sandwiches $ 2 Small French Fries', 'expirationDate': '2018-12-26'}, {'dealTitle': 'FREE Buy 1 Big Fish Sandwich Get 1 Big Fish Sandwich FREE', 'expirationDate': '2018-12-26'}, {'dealTitle': 'FREE Buy 1 Whopper Get 1 FREE', 'expirationDate': '2018-12-26'}, {'dealTitle': \"$4.00 2 Croissan'wichs, Small Hash Brown & Small Coffee\", 'expirationDate': '2018-04-13'}, {'dealTitle': '$4.00 2 Bacon Cheeseburgers, Small Fry & Small Drink', 'expirationDate': '2018-04-13'}, {'dealTitle': \"$3.99 2 Whopper Jr.'s & 2 Small Fries\", 'expirationDate': '2018-04-13'}, {'dealTitle': \"Free Croissan'wich - Buy One, Get One\", 'expirationDate': '2018-04-29'}, {'dealTitle': '$5 For 2 Whopper JRs, 2 Small Fries & 2 Small Fountain Drinks', 'expirationDate': '2018-04-29'}, {'dealTitle': 'Free Whopper! With The Purchase Of A Whopper Sandwich', 'expirationDate': '2018-04-29'}, {'dealTitle': \"FREE CROISSAN'WICH With the purchase of a CROISSAN'WICH Sandwich\", 'expirationDate': '2018-04-09'}, {'dealTitle': \"$5 WHOPPER JR. Meal for 2 2 Whopper Jr's, 2 Small Fries & 2 Small Fountain Drinks\", 'expirationDate': '2018-04-09'}, {'dealTitle': 'FREE WHOPPER! With the purchase of a WHOPPER Sandwich', 'expirationDate': '2018-04-09'}, {'dealTitle': 'Burger King', 'expirationDate': '2019-01-11'}, {'dealTitle': 'Burger King', 'expirationDate': '2019-01-11'}, {'dealTitle': 'Burger King', 'expirationDate': '2019-01-11'}, {'dealTitle': 'Burger King', 'expirationDate': '2019-01-11'}, {'dealTitle': 'Burger King', 'expirationDate': '2019-01-11'}, {'dealTitle': 'Burger King', 'expirationDate': '2019-01-11'}, {'dealTitle': 'Burger King', 'expirationDate': '2019-01-11'}, {'dealTitle': '$4.99 2 Original Chicken Sandwiches & 2 Small Classic French Fries', 'expirationDate': '2018-08-13'}, {'dealTitle': 'FREE WHOPPER With The Purchase of a Whopper.', 'expirationDate': '2018-08-13'}, {'dealTitle': '$3 Bacon Double Cheeseburger & Large Classic French Fries', 'expirationDate': '2018-08-13'}]\n",
      "\n",
      "Thank you for using E-Z coups by Jared, Madison , and Zelin\n"
     ]
    }
   ],
   "source": [
    "type= input('Hello, are you looking for a chain shop or local shops: (Please enter \"chain\" or \"local\")')\n",
    "if type == 'chain':\n",
    "    chain_name = input('Enter the name of shops you are looking for in full: ')\n",
    "    shop = chain_shop(chain_name)\n",
    "    if shop == []:\n",
    "        print(\"Sorry, we can't find the shop in the database, please choose another one or moodify your spelling.\")\n",
    "    else: \n",
    "        deals = get_chain(shop[0]['chainID'])\n",
    "elif type == 'local':\n",
    "\n",
    "    cat = input(\"We can find these categories\\n\" + str(get_category())+\"\\nPlease enter the id of one you are looking for: \")\n",
    "    subs = get_subcategory(cat)\n",
    "    if subs==[]:\n",
    "        print('Wrong Input, Please check category id again')\n",
    "    else:\n",
    "        subcat= input(\"We can find these subcategories\\n\"+ str(get_subcategory(cat))+\"\\nPlease enter the id of ones you are looking for, use comma to separate mulitiple ones. Enter '0' to not fliter the subcategories: \")\n",
    "        zipcode= input('Enter your zipcode to tell us where you are: ')\n",
    "        deals= get_local(zipcode,cat,subcat)\n",
    "            \n",
    "if deals == []:\n",
    "    print(\"Sorry, We don't have any coupons about this store/in your area right now. Please modify your search\")\n",
    "    \n",
    "else:\n",
    "    print(deals) \n",
    "    \n",
    "print(\"\\nThank you for using E-Z coups by Jared, Madison , and Zelin\")"
   ]
  },
  {
   "cell_type": "markdown",
   "metadata": {},
   "source": [
    "# Under are all test program, just ignore."
   ]
  },
  {
   "cell_type": "code",
   "execution_count": 35,
   "metadata": {},
   "outputs": [
    {
     "data": {
      "text/plain": [
       "[{'dealTitle': \"20% Cash Back at Dunkin' Donuts\",\n",
       "  'expirationDate': '2019-08-15'},\n",
       " {'dealTitle': '20% Cash Back at Dunkin Donuts - Wyncote',\n",
       "  'expirationDate': '2019-08-10'},\n",
       " {'dealTitle': '$1.99 + TAX SMALL (16 OZ.) FROZEN BEVERAGE',\n",
       "  'expirationDate': '2018-12-14'},\n",
       " {'dealTitle': '$3.99 + TAX FOR 6 DONUTS OR 25 MUNCHKINS DONUT HOLE TREATS',\n",
       "  'expirationDate': '2018-12-14'},\n",
       " {'dealTitle': \"10% Cash Back at Dunkin' Donuts\",\n",
       "  'expirationDate': '2019-06-09'},\n",
       " {'dealTitle': '50% Off Any Milkshake', 'expirationDate': '2018-07-13'},\n",
       " {'dealTitle': 'FREE Sundae - of equal or lesser value - with the purchase of sundae',\n",
       "  'expirationDate': '2018-07-13'},\n",
       " {'dealTitle': 'FREE cup or cone - of equal or lesser value - with purchase of cup or cone',\n",
       "  'expirationDate': '2018-07-13'},\n",
       " {'dealTitle': 'FREE Turbo Shot with purchase of any beverage',\n",
       "  'expirationDate': '2018-06-01'},\n",
       " {'dealTitle': 'FREE Hash Brown with purchase of any sandwich',\n",
       "  'expirationDate': '2018-06-01'},\n",
       " {'dealTitle': 'FREE Donut when you buy an X-Large Coffee',\n",
       "  'expirationDate': '2018-06-01'},\n",
       " {'dealTitle': '$0.99 +Tax For A Medium (14oz.) Hot or (24oz.) Iced Coffee',\n",
       "  'expirationDate': '2018-10-13'},\n",
       " {'dealTitle': '$1.29 + Tax For A Bagel & Cream Cheese Spread',\n",
       "  'expirationDate': '2018-10-13'},\n",
       " {'dealTitle': \"$5.99 + Tax For One Dozen Dunkin' Donuts\",\n",
       "  'expirationDate': '2018-10-13'},\n",
       " {'dealTitle': '99¢ MEDIUM HOT COFFEE, ICED COFFEE, ICED TEA OR HOT TEA',\n",
       "  'expirationDate': '2018-09-14'},\n",
       " {'dealTitle': '50% OFF ANY DUNKIN BEVERAGE', 'expirationDate': '2018-09-14'},\n",
       " {'dealTitle': '$1.49 ANY SIZE HOT OR ICED COFFEE',\n",
       "  'expirationDate': '2018-09-14'},\n",
       " {'dealTitle': '99¢ MEDIUM HOT COFFEE, ICED COFFEE, ICED TEA OR HOT TEA',\n",
       "  'expirationDate': '2018-12-14'},\n",
       " {'dealTitle': 'FREE 6 CLASSIC DONUTS OR 25 MUNCHKINS WITH PURCHASE OF ANY BEVERAGE',\n",
       "  'expirationDate': '2018-04-19'},\n",
       " {'dealTitle': '$1.49 ANY SIZE HOT OR ICED COFFEE',\n",
       "  'expirationDate': '2018-12-14'},\n",
       " {'dealTitle': '50% OFF ANY DUNKIN BEVERAGE', 'expirationDate': '2018-12-14'},\n",
       " {'dealTitle': 'FREE 6 Classic Donuts With the Purchase of 6 Classic Donuts!',\n",
       "  'expirationDate': '2018-06-30'},\n",
       " {'dealTitle': \"$0.79 Medium Hot Coffee With Any Purchase At Dunkin'' Donuts!\",\n",
       "  'expirationDate': '2018-06-30'},\n",
       " {'dealTitle': \"25% OFF Any Purchase At Participating Dunkin' Donuts!\",\n",
       "  'expirationDate': '2018-06-30'},\n",
       " {'dealTitle': 'STOP BY TODAY!', 'expirationDate': '2018-04-15'},\n",
       " {'dealTitle': 'Marvel Universe LIVE! Age of Heroes (April 26–29)',\n",
       "  'expirationDate': '2018-04-30'},\n",
       " {'dealTitle': '$1.00 OFF 25 Count Munchkins Donut Hole Treats - Restaurant Coupon',\n",
       "  'expirationDate': '2018-04-28'},\n",
       " {'dealTitle': '$3.99 For 6 Donuts - Restaurant Coupon',\n",
       "  'expirationDate': '2018-04-28'},\n",
       " {'dealTitle': 'Medium Hot or Iced Dark Roast Coffee .99 - Restaurant Coupon',\n",
       "  'expirationDate': '2018-04-28'},\n",
       " {'dealTitle': 'FREE Turbo Shot with purchase of any beverage',\n",
       "  'expirationDate': '2018-04-15'},\n",
       " {'dealTitle': 'FREE Hash Brown with purchase of any sandwich',\n",
       "  'expirationDate': '2018-04-15'},\n",
       " {'dealTitle': 'FREE Donut when you buy an X-Large Coffee',\n",
       "  'expirationDate': '2018-04-15'},\n",
       " {'dealTitle': \"$6 for $10 at Dunkin' Donuts\", 'expirationDate': '2018-04-25'},\n",
       " {'dealTitle': '$1 Off A Medium Or Large Hot Or Iced Latte',\n",
       "  'expirationDate': '2018-03-21'},\n",
       " {'dealTitle': '$1 Off Any Purchase Of $2 Or More',\n",
       "  'expirationDate': '2018-03-21'},\n",
       " {'dealTitle': '$1 Off Any Purchase', 'expirationDate': '2018-03-21'},\n",
       " {'dealTitle': '$1.00 OFF a Medium or Large Hot or Iced Latte Excludes Cold Brew',\n",
       "  'expirationDate': '2018-02-27'},\n",
       " {'dealTitle': '$1.00 OFF ANY Purchase of $2.00 or more',\n",
       "  'expirationDate': '2018-02-27'},\n",
       " {'dealTitle': 'Monster Jam Triple Threat Series on March 9–10',\n",
       "  'expirationDate': '2018-03-11'},\n",
       " {'dealTitle': 'Pay with our Dunkin Mobile App!',\n",
       "  'expirationDate': '2018-12-26'},\n",
       " {'dealTitle': \"Download/Use the Dunkin App for this Month's Exclusive Mobile Offers\",\n",
       "  'expirationDate': '2018-12-26'},\n",
       " {'dealTitle': '$7.99 Dozen Donuts or 50 Count Munchkins Donut Hole Treats (plus appl. tax) - Restaurant Coupon',\n",
       "  'expirationDate': '2018-03-23'},\n",
       " {'dealTitle': '$2.99 Breakfast Sandwich With Meat (Excludes Angus Steak) (plus appl. tax) - Restaurant Coupon',\n",
       "  'expirationDate': '2018-03-23'},\n",
       " {'dealTitle': \"$2.00 OFF A Box O' Joe - Restaurant Coupon\",\n",
       "  'expirationDate': '2018-03-23'},\n",
       " {'dealTitle': '$7.99 Dozen Donuts or 50 Count Munchkins Donut Hole Treats (plus appl. tax)',\n",
       "  'expirationDate': '2018-01-01'},\n",
       " {'dealTitle': 'Dunkin Donuts', 'expirationDate': '2018-02-16'},\n",
       " {'dealTitle': 'Dunkin Donuts', 'expirationDate': '2018-02-16'},\n",
       " {'dealTitle': '$1.99 + Tax Sausage Egg and Cheese Sandwich',\n",
       "  'expirationDate': '2018-02-14'},\n",
       " {'dealTitle': 'Get a Muffin for ONLY 99cents at Dunkin Donuts!',\n",
       "  'expirationDate': '2018-01-14'},\n",
       " {'dealTitle': '$1.99 MEDIUM (16 OZ.) HOT OR ICED ESPRESSO BEVERAGE',\n",
       "  'expirationDate': '2018-05-12'},\n",
       " {'dealTitle': '99¢ FOR 2 CLASSIC DONUTS EXCLUDES FANCIES',\n",
       "  'expirationDate': '2018-05-12'},\n",
       " {'dealTitle': '$1 MEDIUM (14 OZ.) HOT COFFEE',\n",
       "  'expirationDate': '2018-12-14'},\n",
       " {'dealTitle': 'Harlem Globetrotters Game on Saturday, March 31, at 2 p.m. or 7 p.m.',\n",
       "  'expirationDate': '2018-03-30'},\n",
       " {'dealTitle': '3 Pounds of Dunkin Donuts Coffee For ONLY $19.99 at Dunkin Donuts!',\n",
       "  'expirationDate': '2018-01-14'},\n",
       " {'dealTitle': '2 Bacon, Egg & Cheese Sandwiches ONLY $5 at Dunkin Donuts!',\n",
       "  'expirationDate': '2018-01-14'},\n",
       " {'dealTitle': '$1.99 For A Medium Hot or Iced Espresso Beverage!',\n",
       "  'expirationDate': '2018-01-14'},\n",
       " {'dealTitle': '$1.49 For Any Size Hot or Iced Coffee!',\n",
       "  'expirationDate': '2018-01-14'},\n",
       " {'dealTitle': 'See Print Mailer For Offers', 'expirationDate': '2019-01-08'},\n",
       " {'dealTitle': \"$6 for $10 at Dunkin' Donuts\", 'expirationDate': '2018-02-21'},\n",
       " {'dealTitle': '99 Cents plus appl. tax for a small (10oz) Hot or (16oz) Iced Latte',\n",
       "  'expirationDate': '2018-07-13'},\n",
       " {'dealTitle': '$1.00 OFF Any Breakfast Sandwich',\n",
       "  'expirationDate': '2018-07-13'},\n",
       " {'dealTitle': '$1.00 Any Purchase', 'expirationDate': '2018-02-27'},\n",
       " {'dealTitle': 'Visit www.dunkindonuts.com for our full menu',\n",
       "  'expirationDate': '2019-12-12'},\n",
       " {'dealTitle': 'Visit www.dunkindonuts.com for our full menu',\n",
       "  'expirationDate': '2019-12-12'},\n",
       " {'dealTitle': '$100 for $200 at Roberts Restorations',\n",
       "  'expirationDate': '2018-04-25'},\n",
       " {'dealTitle': '$0.99 +Tax For A Medium (14oz.) Hot or (24oz.) Ice Coffee.',\n",
       "  'expirationDate': '2018-04-23'},\n",
       " {'dealTitle': '$1.29 + Tax. For a Bagel & Cream Cheese Spread.',\n",
       "  'expirationDate': '2018-04-23'},\n",
       " {'dealTitle': '$5.99 + Tax for a Dozen Donuts',\n",
       "  'expirationDate': '2018-04-23'},\n",
       " {'dealTitle': 'Pay with our Dunkin Mobile App!',\n",
       "  'expirationDate': '2018-12-26'},\n",
       " {'dealTitle': \"Download/Use the Dunkin App for this Month's Exclusive Mobile Offers\",\n",
       "  'expirationDate': '2018-12-26'},\n",
       " {'dealTitle': '$1 OFF a Dozen Donuts Or 50 Munchkins!',\n",
       "  'expirationDate': '2018-01-14'},\n",
       " {'dealTitle': '50 Cents plus tax for a medium (14 oz.) Hot or (24 oz.) Iced Coffee',\n",
       "  'expirationDate': '2018-03-05'},\n",
       " {'dealTitle': '$1.00 OFF ANY Breakfast or Bakery Sandwich',\n",
       "  'expirationDate': '2018-03-05'},\n",
       " {'dealTitle': \"50 Cents Off Any Dunkin' Purchase\",\n",
       "  'expirationDate': '2018-03-05'},\n",
       " {'dealTitle': '$1.00 Off Any Breakfast or Bakery Sandwich',\n",
       "  'expirationDate': '2018-03-05'},\n",
       " {'dealTitle': '50 Cents Off Any Purchase', 'expirationDate': '2018-03-05'},\n",
       " {'dealTitle': \"HOT OR COLD WE'VE GOT YOU COVERED\",\n",
       "  'expirationDate': '2018-05-02'},\n",
       " {'dealTitle': '$1.00 OFF ANY Purchase of $2.00 or more.',\n",
       "  'expirationDate': '2018-01-11'},\n",
       " {'dealTitle': '$14.99 plus appl. tax. for 2 lbs. of Coffee',\n",
       "  'expirationDate': '2018-01-11'},\n",
       " {'dealTitle': 'FREE Any size Hot Coffee with the purchase of Any Sandwich',\n",
       "  'expirationDate': '2018-01-11'},\n",
       " {'dealTitle': 'Pay with our Dunkin Mobile App!',\n",
       "  'expirationDate': '2018-01-14'},\n",
       " {'dealTitle': \"Download/Use the Dunkin App for this Month's Exclusive Mobile Offers\",\n",
       "  'expirationDate': '2018-01-14'}]"
      ]
     },
     "execution_count": 35,
     "metadata": {},
     "output_type": "execute_result"
    }
   ],
   "source": [
    "deals = get_chain('1')\n",
    "deals"
   ]
  },
  {
   "cell_type": "code",
   "execution_count": 9,
   "metadata": {},
   "outputs": [
    {
     "data": {
      "text/plain": [
       "[{'name': 'Nike', 'homepage': 'http://store.nike.com', 'chainID': '22611'}]"
      ]
     },
     "execution_count": 9,
     "metadata": {},
     "output_type": "execute_result"
    }
   ],
   "source": [
    "chain_shop('Nike')"
   ]
  },
  {
   "cell_type": "code",
   "execution_count": 16,
   "metadata": {},
   "outputs": [
    {
     "name": "stdout",
     "output_type": "stream",
     "text": [
      "Enter your category number: dsa\n"
     ]
    },
    {
     "data": {
      "text/plain": [
       "str"
      ]
     },
     "execution_count": 16,
     "metadata": {},
     "output_type": "execute_result"
    }
   ],
   "source": [
    "catid = input('Enter your category number: ')\n",
    "type (catid)"
   ]
  },
  {
   "cell_type": "code",
   "execution_count": 10,
   "metadata": {},
   "outputs": [
    {
     "ename": "JSONDecodeError",
     "evalue": "Expecting value: line 1 column 2 (char 1)",
     "output_type": "error",
     "traceback": [
      "\u001b[0;31m---------------------------------------------------------------------------\u001b[0m",
      "\u001b[0;31mJSONDecodeError\u001b[0m                           Traceback (most recent call last)",
      "\u001b[0;32m<ipython-input-10-c2d23a22b18b>\u001b[0m in \u001b[0;36m<module>\u001b[0;34m()\u001b[0m\n\u001b[0;32m----> 1\u001b[0;31m \u001b[0mget_chain\u001b[0m\u001b[0;34m(\u001b[0m\u001b[0;34m'22611'\u001b[0m\u001b[0;34m)\u001b[0m\u001b[0;34m\u001b[0m\u001b[0m\n\u001b[0m",
      "\u001b[0;32m<ipython-input-6-813c0e05627f>\u001b[0m in \u001b[0;36mget_chain\u001b[0;34m(ID)\u001b[0m\n\u001b[1;32m      3\u001b[0m     \u001b[0murl\u001b[0m\u001b[0;34m=\u001b[0m\u001b[0;34m'http://api.8coupons.com/v1/getstoredeals?key=672ebffc9d07b6f8d7f468a35b53dede84b8f48e6f8b22588d0be4f1d4d35c7bf3c91e54b0fa475e01be904521e1841c&chainID='\u001b[0m\u001b[0;34m+\u001b[0m\u001b[0mID\u001b[0m\u001b[0;34m\u001b[0m\u001b[0m\n\u001b[1;32m      4\u001b[0m     \u001b[0mresponse\u001b[0m \u001b[0;34m=\u001b[0m \u001b[0mrequests\u001b[0m\u001b[0;34m.\u001b[0m\u001b[0mget\u001b[0m\u001b[0;34m(\u001b[0m\u001b[0murl\u001b[0m\u001b[0;34m)\u001b[0m\u001b[0;34m\u001b[0m\u001b[0m\n\u001b[0;32m----> 5\u001b[0;31m     \u001b[0mchain_deal\u001b[0m \u001b[0;34m=\u001b[0m \u001b[0mresponse\u001b[0m\u001b[0;34m.\u001b[0m\u001b[0mjson\u001b[0m\u001b[0;34m(\u001b[0m\u001b[0;34m)\u001b[0m\u001b[0;34m\u001b[0m\u001b[0m\n\u001b[0m\u001b[1;32m      6\u001b[0m     \u001b[0mdeals\u001b[0m\u001b[0;34m=\u001b[0m\u001b[0;34m[\u001b[0m\u001b[0;34m]\u001b[0m\u001b[0;34m\u001b[0m\u001b[0m\n\u001b[1;32m      7\u001b[0m     \u001b[0;32mfor\u001b[0m \u001b[0mvalue\u001b[0m \u001b[0;32min\u001b[0m \u001b[0mchain_deal\u001b[0m\u001b[0;34m:\u001b[0m\u001b[0;34m\u001b[0m\u001b[0m\n",
      "\u001b[0;32m/Library/Frameworks/Python.framework/Versions/3.6/lib/python3.6/site-packages/requests/models.py\u001b[0m in \u001b[0;36mjson\u001b[0;34m(self, **kwargs)\u001b[0m\n\u001b[1;32m    886\u001b[0m                 \u001b[0;32mtry\u001b[0m\u001b[0;34m:\u001b[0m\u001b[0;34m\u001b[0m\u001b[0m\n\u001b[1;32m    887\u001b[0m                     return complexjson.loads(\n\u001b[0;32m--> 888\u001b[0;31m                         \u001b[0mself\u001b[0m\u001b[0;34m.\u001b[0m\u001b[0mcontent\u001b[0m\u001b[0;34m.\u001b[0m\u001b[0mdecode\u001b[0m\u001b[0;34m(\u001b[0m\u001b[0mencoding\u001b[0m\u001b[0;34m)\u001b[0m\u001b[0;34m,\u001b[0m \u001b[0;34m**\u001b[0m\u001b[0mkwargs\u001b[0m\u001b[0;34m\u001b[0m\u001b[0m\n\u001b[0m\u001b[1;32m    889\u001b[0m                     )\n\u001b[1;32m    890\u001b[0m                 \u001b[0;32mexcept\u001b[0m \u001b[0mUnicodeDecodeError\u001b[0m\u001b[0;34m:\u001b[0m\u001b[0;34m\u001b[0m\u001b[0m\n",
      "\u001b[0;32m/Library/Frameworks/Python.framework/Versions/3.6/lib/python3.6/json/__init__.py\u001b[0m in \u001b[0;36mloads\u001b[0;34m(s, encoding, cls, object_hook, parse_float, parse_int, parse_constant, object_pairs_hook, **kw)\u001b[0m\n\u001b[1;32m    352\u001b[0m             \u001b[0mparse_int\u001b[0m \u001b[0;32mis\u001b[0m \u001b[0;32mNone\u001b[0m \u001b[0;32mand\u001b[0m \u001b[0mparse_float\u001b[0m \u001b[0;32mis\u001b[0m \u001b[0;32mNone\u001b[0m \u001b[0;32mand\u001b[0m\u001b[0;34m\u001b[0m\u001b[0m\n\u001b[1;32m    353\u001b[0m             parse_constant is None and object_pairs_hook is None and not kw):\n\u001b[0;32m--> 354\u001b[0;31m         \u001b[0;32mreturn\u001b[0m \u001b[0m_default_decoder\u001b[0m\u001b[0;34m.\u001b[0m\u001b[0mdecode\u001b[0m\u001b[0;34m(\u001b[0m\u001b[0ms\u001b[0m\u001b[0;34m)\u001b[0m\u001b[0;34m\u001b[0m\u001b[0m\n\u001b[0m\u001b[1;32m    355\u001b[0m     \u001b[0;32mif\u001b[0m \u001b[0mcls\u001b[0m \u001b[0;32mis\u001b[0m \u001b[0;32mNone\u001b[0m\u001b[0;34m:\u001b[0m\u001b[0;34m\u001b[0m\u001b[0m\n\u001b[1;32m    356\u001b[0m         \u001b[0mcls\u001b[0m \u001b[0;34m=\u001b[0m \u001b[0mJSONDecoder\u001b[0m\u001b[0;34m\u001b[0m\u001b[0m\n",
      "\u001b[0;32m/Library/Frameworks/Python.framework/Versions/3.6/lib/python3.6/json/decoder.py\u001b[0m in \u001b[0;36mdecode\u001b[0;34m(self, s, _w)\u001b[0m\n\u001b[1;32m    337\u001b[0m \u001b[0;34m\u001b[0m\u001b[0m\n\u001b[1;32m    338\u001b[0m         \"\"\"\n\u001b[0;32m--> 339\u001b[0;31m         \u001b[0mobj\u001b[0m\u001b[0;34m,\u001b[0m \u001b[0mend\u001b[0m \u001b[0;34m=\u001b[0m \u001b[0mself\u001b[0m\u001b[0;34m.\u001b[0m\u001b[0mraw_decode\u001b[0m\u001b[0;34m(\u001b[0m\u001b[0ms\u001b[0m\u001b[0;34m,\u001b[0m \u001b[0midx\u001b[0m\u001b[0;34m=\u001b[0m\u001b[0m_w\u001b[0m\u001b[0;34m(\u001b[0m\u001b[0ms\u001b[0m\u001b[0;34m,\u001b[0m \u001b[0;36m0\u001b[0m\u001b[0;34m)\u001b[0m\u001b[0;34m.\u001b[0m\u001b[0mend\u001b[0m\u001b[0;34m(\u001b[0m\u001b[0;34m)\u001b[0m\u001b[0;34m)\u001b[0m\u001b[0;34m\u001b[0m\u001b[0m\n\u001b[0m\u001b[1;32m    340\u001b[0m         \u001b[0mend\u001b[0m \u001b[0;34m=\u001b[0m \u001b[0m_w\u001b[0m\u001b[0;34m(\u001b[0m\u001b[0ms\u001b[0m\u001b[0;34m,\u001b[0m \u001b[0mend\u001b[0m\u001b[0;34m)\u001b[0m\u001b[0;34m.\u001b[0m\u001b[0mend\u001b[0m\u001b[0;34m(\u001b[0m\u001b[0;34m)\u001b[0m\u001b[0;34m\u001b[0m\u001b[0m\n\u001b[1;32m    341\u001b[0m         \u001b[0;32mif\u001b[0m \u001b[0mend\u001b[0m \u001b[0;34m!=\u001b[0m \u001b[0mlen\u001b[0m\u001b[0;34m(\u001b[0m\u001b[0ms\u001b[0m\u001b[0;34m)\u001b[0m\u001b[0;34m:\u001b[0m\u001b[0;34m\u001b[0m\u001b[0m\n",
      "\u001b[0;32m/Library/Frameworks/Python.framework/Versions/3.6/lib/python3.6/json/decoder.py\u001b[0m in \u001b[0;36mraw_decode\u001b[0;34m(self, s, idx)\u001b[0m\n\u001b[1;32m    355\u001b[0m             \u001b[0mobj\u001b[0m\u001b[0;34m,\u001b[0m \u001b[0mend\u001b[0m \u001b[0;34m=\u001b[0m \u001b[0mself\u001b[0m\u001b[0;34m.\u001b[0m\u001b[0mscan_once\u001b[0m\u001b[0;34m(\u001b[0m\u001b[0ms\u001b[0m\u001b[0;34m,\u001b[0m \u001b[0midx\u001b[0m\u001b[0;34m)\u001b[0m\u001b[0;34m\u001b[0m\u001b[0m\n\u001b[1;32m    356\u001b[0m         \u001b[0;32mexcept\u001b[0m \u001b[0mStopIteration\u001b[0m \u001b[0;32mas\u001b[0m \u001b[0merr\u001b[0m\u001b[0;34m:\u001b[0m\u001b[0;34m\u001b[0m\u001b[0m\n\u001b[0;32m--> 357\u001b[0;31m             \u001b[0;32mraise\u001b[0m \u001b[0mJSONDecodeError\u001b[0m\u001b[0;34m(\u001b[0m\u001b[0;34m\"Expecting value\"\u001b[0m\u001b[0;34m,\u001b[0m \u001b[0ms\u001b[0m\u001b[0;34m,\u001b[0m \u001b[0merr\u001b[0m\u001b[0;34m.\u001b[0m\u001b[0mvalue\u001b[0m\u001b[0;34m)\u001b[0m \u001b[0;32mfrom\u001b[0m \u001b[0;32mNone\u001b[0m\u001b[0;34m\u001b[0m\u001b[0m\n\u001b[0m\u001b[1;32m    358\u001b[0m         \u001b[0;32mreturn\u001b[0m \u001b[0mobj\u001b[0m\u001b[0;34m,\u001b[0m \u001b[0mend\u001b[0m\u001b[0;34m\u001b[0m\u001b[0m\n",
      "\u001b[0;31mJSONDecodeError\u001b[0m: Expecting value: line 1 column 2 (char 1)"
     ]
    }
   ],
   "source": [
    "get_chain('22611')"
   ]
  },
  {
   "cell_type": "code",
   "execution_count": 24,
   "metadata": {},
   "outputs": [
    {
     "data": {
      "text/plain": [
       "[{'name': 'Spirit of Philadelphia',\n",
       "  'dealTitle': '$59 -- Friday Prix Fixe Dinner Cruise',\n",
       "  'dealinfo': '**For $69 (reg. $115.46), **reserve a prix fixe dinner cruise Sunday **For $94 (reg. $156.25), **reserve a dinner cruise Tuesday-Friday **For $59 (reg. $101.86), **reserve a prix fixe dinner cruise Friday **For $114 (reg. $190.25),** reserve a dinner cruise Saturday Tickets are per person; purchase multiple vouchers and go with a group Cruises depart from Navy Pier, last approximately three hours (Sunday cruises are 2.5 hours) and include either a prix fixe or buffet dinner **Not valid on:** Jan. 25-27; Feb. 1-3, 14-16; March 16, 29; April 5, 21; May 5, 12, 25-26, 29',\n",
       "  'expirationDate': '2019-05-24',\n",
       "  'ID': '17286444'},\n",
       " {'name': 'Battle of the Burger',\n",
       "  'dealTitle': 'Umami Burger: Dining & Drinks at 16 Locations',\n",
       "  'dealinfo': '**$19 for $35 to spend on food and drinks**; valid for any number of diners ** $29 for $55 to spend on food and drinks**; valid for three or more diners Choose whatever you like from the menu -- try the signature burgers, the newest plant-based options, drinks from the full bar and hearty sides See the **[full menu](https://res.cloudinary.com/popmenu/image/upload/v1537220 031/vaamkewyzamzcxqwfwom.pdf)**',\n",
       "  'expirationDate': '2019-04-24',\n",
       "  'ID': '17290375'},\n",
       " {'name': \"Dylan's Candy Bar\",\n",
       "  'dealTitle': '$29 -- NYC Union Square: Spend $50 on Sweets',\n",
       "  'dealinfo': '$29 for $50 to spend on candy $49 for $75 to spend on candy Vouchers are only valid for the location purchased',\n",
       "  'expirationDate': '2019-02-22',\n",
       "  'ID': '17283843'},\n",
       " {'name': 'Gingerbread House Party at Dylan&rsquo;s Candy Bar',\n",
       "  'dealTitle': '$29 -- NYC Flagship (3rd Ave): Spend $50 on Sweets',\n",
       "  'dealinfo': '$29 for $50 to spend on candy $49 for $75 to spend on candy Vouchers are only valid for the location purchased',\n",
       "  'expirationDate': '2019-02-22',\n",
       "  'ID': '17283841'},\n",
       " {'name': 'Russian Tea Room',\n",
       "  'dealTitle': '$129 -- Afternoon Tea Service with Wine for 2',\n",
       "  'dealinfo': '**For $65, get afternoon tea service for one** (reg. $79) including: * A sampling of sandwiches and blinis, such as turkey with truffle croque monsieur or Roquefort blue cheese and pear with walnuts * Assorted scones and cupcakes * One glass of house red, white or sparkling wine (up to $19) * Choice of one pot of tea, like mint verbena, chamomile or rooibos chai **For $129, get afternoon tea service for two** (reg. $158)',\n",
       "  'expirationDate': '2019-10-04',\n",
       "  'ID': '17273182'},\n",
       " {'name': 'Osteria Morini Manhattan',\n",
       "  'dealTitle': '$49 -- Brunch for 2 with Drinks',\n",
       "  'dealinfo': '**$45 for a three-course lunch for two** (reg. $80) * Two appetizers; two salads, sandwiches or pastas; and two desserts **$49 for weekend brunch for two** (reg. $85) * Two brunch entrees, one side to share and two classic bloody marys or mimosas **Craft your own dinner experience with these dining-credit offers:** * $69 for $100 to spend toward food and drink for two * $99 for $150 to spend toward food and drink for four',\n",
       "  'expirationDate': '2019-04-23',\n",
       "  'ID': '17286388'},\n",
       " {'name': \"Flip at Bloomingdale's\",\n",
       "  'dealTitle': '$55 -- Dinner for 2',\n",
       "  'dealinfo': '**For $29, get happy hour for two** (reg. 49) * Two appetizers or sides * Choice of two beers, wines, spirits or cocktails **For $55, get dinner and drinks for two** (reg. $89) * Choice of one salad or appetizer to share * Two entrees * Two desserts * Choice of two beers, wines or cocktails',\n",
       "  'expirationDate': '2019-02-22',\n",
       "  'ID': '17257135'},\n",
       " {'name': 'Sen Sakana',\n",
       "  'dealTitle': '$69 -- $100 Credit toward Dining for 2',\n",
       "  'dealinfo': 'For $69, get $100 toward food and drinks for two For $135, get $200 toward food and drinks for four Dining credit can be used toward the **[lunch](https://sensakana.com/menu/lunch-menu/)**, **[sushi](https://sensakana.com/menu/sushi-menu/)** and **[dinner](https://sensakana.com/menu/dinner-menu/)** menus',\n",
       "  'expirationDate': '2018-12-28',\n",
       "  'ID': '17267474'},\n",
       " {'name': 'Vaucluse',\n",
       "  'dealTitle': \"$189 -- Dinner for 2: 6-Course Chef's Tasting Menu\",\n",
       "  'dealinfo': \"For $189, get **a six-course chef's tasting menu** for two (reg. $270) For $49, get weekday lunch for one, with an appetizer, entree and glass of wine (reg. up to $80) For $89, get weekday lunch for two (reg. up to $160)\",\n",
       "  'expirationDate': '2019-04-24',\n",
       "  'ID': '17286384'},\n",
       " {'name': \"Janam Tea at Garfunkel's\",\n",
       "  'dealTitle': '$59 -- Afternoon Tea for 2 with Bubbly',\n",
       "  'dealinfo': '**$59 for afternoon tea for two people** (reg. $100) * A selection of savories, such as smoked salmon on a cracker with horseradish cream, dill and black sesame seeds; plus cupcakes and chocolate pot du creme * Choice of one pot of single-estate Indian tea per person * Two glasses of bubbly, chardonnay or cabernet sauvignon (up to $15 each) **$89 for afternoon tea for three people** (reg. $150)',\n",
       "  'expirationDate': '2019-02-22',\n",
       "  'ID': '17244087'},\n",
       " {'name': 'Gramercy Farmer & The Fish',\n",
       "  'dealTitle': '$95 -- Bottomless Brunch for 4',\n",
       "  'dealinfo': '**$49 for weekend brunch for two** (reg. $86) * Any two entrees (up to $23 each), such as the lobster hash with poached egg and hollandaise, or the biscuits and gravy with house-made maple sausage * 90 minutes of bottomless bloody marys, mimosas or screwdrivers **$95 for weekend brunch for four** (reg. $172) **$79 for dinner for two** (reg. $132) * Any two appetizers (up to $18 each), like the octopus with crispy potatoes or the tuna tartare * Two entrees (up to $34 each), such as the Thai fish tacos or grilled swordfish with she-crab risotto * Two drinks (up to $14 each) **$115 for dinner for three** (reg. $198) _Note:_ Vouchers can be redeemed starting Jan. 2, 2019; vouchers brought in prior to Jan. 2 will not be accepted.',\n",
       "  'expirationDate': '2019-03-29',\n",
       "  'ID': '17271610'},\n",
       " {'name': '40/40 Club',\n",
       "  'dealTitle': '$59 -- Dinner & Drinks for 2',\n",
       "  'dealinfo': '**$39 for drinks and apps for two people** (reg. $88) * Two appetizers (up to $14 each) * Four cocktails, beers or glasses of wine (up to $15 each) **$59 for dinner for two** (reg. $114) * Two appetizers (up to $14 each) * Two entrees (up to $28 each) * Two cocktails, beers or glasses of wine (up to $15 each) **$600 for a VIP party for up to 20 guests** (reg. $2040) * A private lounge for the evening * Two bottles of liquor (up to $300 each) * Four appetizer platters (up to $110 each) _Note:_ There is a maximum time limit of four hours for all private lounge reservations.',\n",
       "  'expirationDate': '2019-01-25',\n",
       "  'ID': '17274097'},\n",
       " {'name': 'Kellari Seafood Taverna',\n",
       "  'dealTitle': '$55 -- Bottomless Brunch for 2',\n",
       "  'dealinfo': '**$55 for a weekend brunch for two** (reg. $122.85) * One appetizer to share (up to $26.95), such as the wild-caught jumbo crab cakes with spicy harissa yogurt * Two brunch entrees (up to $26.95 each), like blueberry pancakes or the salmon Benedict on Tsoureki toast * Two hours of bottomless mimosas for two people **For $109, get weekend brunch for four** (reg. $245.70)',\n",
       "  'expirationDate': '2019-03-25',\n",
       "  'ID': '17279725'},\n",
       " {'name': 'Ai Fiori',\n",
       "  'dealTitle': '$199 -- 7-Course Tasting Menu for 2',\n",
       "  'dealinfo': \"$199 for a **seven-course chef's tasting menu** for two (reg. $300) $349 for a seven-course chef's tasting menu for two with wine pairings for each course (reg. $490) $39 for a weekday lunch for one, with an appetizer, pasta, and dessert (reg. $63) $79 for a weekday lunch for two, with an appetizer, pasta, and dessert per person (reg. $126)\",\n",
       "  'expirationDate': '2019-04-24',\n",
       "  'ID': '17286379'},\n",
       " {'name': 'Sofitel New York',\n",
       "  'dealTitle': '$65 -- Bottomless Brunch for 2',\n",
       "  'dealinfo': '**For $65, get weekend brunch for two** (reg. $102) * Two appetizers, such as Hudson Valley Camembert or avocado toast of the day * Two entrees, like eggs Benedict or a croque madame * Two coffees or teas * One bread basket * Endless mimosas, bloody marys or Bellinis **For $129, get weekend brunch for four** (reg. $204) **For $85, get dinner and drinks for two** (reg. $133) * Two appetizers, like the burrata or the fried green tomatoes * Two entrees, such as striped bass or lemon-thyme chicken * Two desserts, like Tahitian vanilla crème brûlée or cheesecake * One bottle of house wine ($35 value) **For $169, get dinner and drinks for four** (reg. $266) _Note:_ Dinner selections are to be made from the **theater menu** only, and dinner vouchers are not valid on Nov. 22; Dec. 24-25, 31',\n",
       "  'expirationDate': '2019-02-22',\n",
       "  'ID': '17274743'},\n",
       " {'name': 'Cesca',\n",
       "  'dealTitle': '$79 -- 3-Course Dinner for 2 with Bottle of Wine',\n",
       "  'dealinfo': '**$79 for a special three-course dinner for two** (reg. $128) * Two appetizers, like the caprese salad or the carciofi * Two entrees, such as the pork porterhouse or the tagliatelle Bolognese * Two desserts, like homemade sorbetto Dinner includes one bottle of wine from the \"Sommelier Selection\" menu (up to $52)',\n",
       "  'expirationDate': '2018-12-23',\n",
       "  'ID': '17249351'},\n",
       " {'name': 'Rice & Gold',\n",
       "  'dealTitle': '$69 -- $130 Food & Drink Credit for 2',\n",
       "  'dealinfo': '**$69 for a $130 food-and-drink credit for two** * Use it toward the full dinner menu, with shared plates such as spicy fried chicken bao, miso butter rice cakes, northern style beef pho and banana leaf whole roasted branzino, plus creative cocktails like the Endless Summer with Avion Blanco, yuzu, pear and grapefruit **$499 for an $800 food-and-drinks credit for 10 or more people** **$49 for weekend brunch for two** (reg. $84) * Choice of one dim sum (up to $16) like their infamous **[pho soup dumplings](https://www.zagat.com/b/must-try-dumplings-in-15-cities-around-the-u.s)** or the avocado toast * Choice of two plates (up to $18 each) such as the thai fried chicken waffles or the smoked salmon benedict * Choice of two drinks (up to $16 each) **Not available on:** Dec. 13, 24-25, 31',\n",
       "  'expirationDate': '2019-03-24',\n",
       "  'ID': '17262327'},\n",
       " {'name': 'indi thai',\n",
       "  'dealTitle': 'Indi Thai',\n",
       "  'dealinfo': '',\n",
       "  'expirationDate': '2019-01-11',\n",
       "  'ID': '17290657'},\n",
       " {'name': 'Australian',\n",
       "  'dealTitle': 'The Australian NYC',\n",
       "  'dealinfo': 'Australian food influenced from British, Asian, and Mediterranean.',\n",
       "  'expirationDate': '2019-01-11',\n",
       "  'ID': '17279485'},\n",
       " {'name': 'Cielo at The Mayfair',\n",
       "  'dealTitle': 'Cielo at the Mayfair',\n",
       "  'dealinfo': \"Located just a stone's throw away from some of Broadway's most popular shows, Cielo is the perfect place to enjoy a great meal before catching a show. Our delicious Italian fare, rustic decor, friendly staff and affordable prices make Cielo the perfect destination for pre-theatre dinner, post-work drinks or a late night out with friends.\",\n",
       "  'expirationDate': '2019-01-11',\n",
       "  'ID': '17268503'}]"
      ]
     },
     "execution_count": 24,
     "metadata": {},
     "output_type": "execute_result"
    }
   ],
   "source": [
    "get_local('10001','1','0')"
   ]
  },
  {
   "cell_type": "code",
   "execution_count": 38,
   "metadata": {},
   "outputs": [
    {
     "name": "stdout",
     "output_type": "stream",
     "text": [
      "Restaurants\n",
      "Entertainment\n",
      "Beauty & Spa\n",
      "Services\n",
      "Shopping\n",
      "Travel\n"
     ]
    }
   ],
   "source": [
    "x = get_category()\n",
    "for item in x:\n",
    "    print(item['category'])"
   ]
  },
  {
   "cell_type": "code",
   "execution_count": 17,
   "metadata": {},
   "outputs": [
    {
     "data": {
      "text/plain": [
       "[]"
      ]
     },
     "execution_count": 17,
     "metadata": {},
     "output_type": "execute_result"
    }
   ],
   "source": [
    "get_subcategory(catid)"
   ]
  },
  {
   "cell_type": "code",
   "execution_count": null,
   "metadata": {},
   "outputs": [],
   "source": []
  }
 ],
 "metadata": {
  "kernelspec": {
   "display_name": "Python 3",
   "language": "python",
   "name": "python3"
  },
  "language_info": {
   "codemirror_mode": {
    "name": "ipython",
    "version": 3
   },
   "file_extension": ".py",
   "mimetype": "text/x-python",
   "name": "python",
   "nbconvert_exporter": "python",
   "pygments_lexer": "ipython3",
   "version": "3.6.6"
  }
 },
 "nbformat": 4,
 "nbformat_minor": 2
}
